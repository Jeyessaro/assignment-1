{
  "nbformat": 4,
  "nbformat_minor": 0,
  "metadata": {
    "colab": {
      "provenance": [],
      "authorship_tag": "ABX9TyNJSkxdwG2+tae0zG0b7yIi",
      "include_colab_link": true
    },
    "kernelspec": {
      "name": "python3",
      "display_name": "Python 3"
    },
    "language_info": {
      "name": "python"
    }
  },
  "cells": [
    {
      "cell_type": "markdown",
      "metadata": {
        "id": "view-in-github",
        "colab_type": "text"
      },
      "source": [
        "<a href=\"https://colab.research.google.com/github/Jeyessaro/assignment-1/blob/main/imarticus_mini_project.ipynb\" target=\"_parent\"><img src=\"https://colab.research.google.com/assets/colab-badge.svg\" alt=\"Open In Colab\"/></a>"
      ]
    },
    {
      "cell_type": "code",
      "execution_count": null,
      "metadata": {
        "id": "K-JFPlM7xTAw"
      },
      "outputs": [],
      "source": [
        "import numpy as np\n",
        "import pandas as pd\n",
        "from matplotlib import pyplot as plt\n",
        "import seaborn as sns\n",
        "import statsmodels.api as sm\n",
        "import scipy.stats as stats\n",
        "from sklearn.preprocessing import LabelEncoder\n",
        "import copy"
      ]
    },
    {
      "cell_type": "code",
      "source": [
        "youtube = pd.read_csv('/content/train.csv',error_bad_lines=False)"
      ],
      "metadata": {
        "colab": {
          "base_uri": "https://localhost:8080/"
        },
        "id": "Zb1SOxyCzv92",
        "outputId": "8a25ff5c-a8e8-49e3-b663-e649d0d2b89d"
      },
      "execution_count": null,
      "outputs": [
        {
          "output_type": "stream",
          "name": "stderr",
          "text": [
            "/usr/local/lib/python3.8/dist-packages/IPython/core/interactiveshell.py:3326: FutureWarning: The error_bad_lines argument has been deprecated and will be removed in a future version.\n",
            "\n",
            "\n",
            "  exec(code_obj, self.user_global_ns, self.user_ns)\n",
            "b'Skipping line 820: expected 19 fields, saw 20\\n'\n"
          ]
        }
      ]
    },
    {
      "cell_type": "code",
      "source": [
        "youtube.shape"
      ],
      "metadata": {
        "colab": {
          "base_uri": "https://localhost:8080/"
        },
        "id": "E4irtBKy23h8",
        "outputId": "40368002-eddf-448e-a43c-ae58032493a1"
      },
      "execution_count": null,
      "outputs": [
        {
          "output_type": "execute_result",
          "data": {
            "text/plain": [
              "(3261, 19)"
            ]
          },
          "metadata": {},
          "execution_count": 10
        }
      ]
    },
    {
      "cell_type": "code",
      "source": [
        "youtube.info"
      ],
      "metadata": {
        "colab": {
          "base_uri": "https://localhost:8080/"
        },
        "id": "hTN77vc03WeF",
        "outputId": "aa0a1d22-7341-4e50-ebc6-bfd5e177d463"
      },
      "execution_count": null,
      "outputs": [
        {
          "output_type": "execute_result",
          "data": {
            "text/plain": [
              "<bound method DataFrame.info of         Video_id category_id          channel_title  subscriber  \\\n",
              "0      HDR9SQc79          22           CaseyNeistat   9086142.0   \n",
              "1     KNH52UF?48          24        LastWeekTonight   5937292.0   \n",
              "2     QTW28IRG36          23           Rudy Mancuso   4191209.0   \n",
              "3     MGL76WI]26          24  Good Mythical Morning  13186408.0   \n",
              "4     TWP93KXT70          24               nigahiga  20563106.0   \n",
              "...          ...         ...                    ...         ...   \n",
              "3256  OKR48DOE67          20         EA SPORTS FIFA   3150213.0   \n",
              "3257  QJK69DS?91          10          JackWhiteVEVO    261596.0   \n",
              "3258  VHF51NVr11          10         JamesBlakeVEVO     28321.0   \n",
              "3259  XHU22OAJ39          26             Refinery29    890739.0   \n",
              "3260  IFD79NSG47          22                MN khan         0.0   \n",
              "\n",
              "                                                  title  \\\n",
              "0                    WE WANT TO TALK ABOUT OUR MARRIAGE   \n",
              "1     The Trump Presidency: Last Week Tonight with J...   \n",
              "2     Racist Superman | Rudy Mancuso, King Bach & Le...   \n",
              "3                      Nickelback Lyrics: Real or Fake?   \n",
              "4                              I Dare You: GOING BALD!?   \n",
              "...                                                 ...   \n",
              "3256      FIFA 18 - FUT Champions Cup Barcelona - Day 1   \n",
              "3257                   Jack White - Corporation (Audio)   \n",
              "3258  James Blake - If The Car Beside You Moves Ahea...   \n",
              "3259  Lucie Fink Trains Like A Professional Gymnast ...   \n",
              "3260  Man drops magnum of Champagne on the floor in ...   \n",
              "\n",
              "                                                   tags  \\\n",
              "0                                       SHANtell martin   \n",
              "1     last week tonight trump presidency|last week t...   \n",
              "2     racist superman|rudy|mancuso|king|bach|racist|...   \n",
              "3     rhett and link|gmm|good mythical morning|rhett...   \n",
              "4     ryan|higa|higatv|nigahiga|i dare you|idy|rhpc|...   \n",
              "...                                                 ...   \n",
              "3256  fifa|fifa ultimate team|fut|fifa pack opening|...   \n",
              "3257  Alternative|Corporation|Jack White|Third Man R...   \n",
              "3258  James|Blake|If|The|Car|Beside|You|Moves|Ahead|...   \n",
              "3259  refinery29|refinery 29|r29|r29 video|refinery2...   \n",
              "3260                                                NaN   \n",
              "\n",
              "                                            description  Trend_day_count  \\\n",
              "0     SHANTELL'S CHANNEL - https://www.youtube.com/s...              6.0   \n",
              "1     One year after the presidential election, John...              1.0   \n",
              "2     WATCH MY PREVIOUS VIDEO ▶ \\n\\nSUBSCRIBE ► http...             10.0   \n",
              "3     Today we find out if Link is a Nickelback amat...             12.0   \n",
              "4     I know it's been a while since we did this sho...             11.0   \n",
              "...                                                 ...              ...   \n",
              "3256  Day 1 of the FUT Champions Cup Barcelona featu...              7.0   \n",
              "3257  “Corporation” by Jack White from the forthcomi...              7.0   \n",
              "3258  If the car beside you moves ahead \\nAs much as...             11.0   \n",
              "3259  On this episode of Lucie For Hire, our host Lu...             11.0   \n",
              "3260  Man spills magnum of champagne ‘worth £30,000’...             12.0   \n",
              "\n",
              "     Tag_count Trend_tag_count comment_count comment_disabled  \\\n",
              "0           21               6                          FALSE   \n",
              "1           23               1        116266             TRUE   \n",
              "2           22               3        257850             TRUE   \n",
              "3           17               5        263939             TRUE   \n",
              "4           15               7        268085             TRUE   \n",
              "...        ...             ...           ...              ...   \n",
              "3256        20               5                          FALSE   \n",
              "3257         8               6                          FALSE   \n",
              "3258        15               4                          FALSE   \n",
              "3259        14               6        250750             TRUE   \n",
              "3260        12               4         32337             TRUE   \n",
              "\n",
              "     like dislike disabled  likes dislike tag appered in title    views  \\\n",
              "0                    FALSE  13342    6089                False  1978978   \n",
              "1                    FALSE   5761    3044                False  1487870   \n",
              "2                     TRUE      0       0                 True  1502102   \n",
              "3                     TRUE      0       0                 True  3519302   \n",
              "4                     TRUE      0       0                 True  4835374   \n",
              "...                    ...    ...     ...                  ...      ...   \n",
              "3256                 FALSE   9734    5912                False   747960   \n",
              "3257                 FALSE  16006   12019                 True   200410   \n",
              "3258                  TRUE      0       0                 True   244022   \n",
              "3259                 FALSE   6859    1247                 True   907340   \n",
              "3260                 FALSE   8339    5436                 True   465531   \n",
              "\n",
              "      Unnamed: 17 Unnamed: 18  \n",
              "0             NaN         NaN  \n",
              "1             NaN         NaN  \n",
              "2             NaN         NaN  \n",
              "3             NaN         NaN  \n",
              "4             NaN         NaN  \n",
              "...           ...         ...  \n",
              "3256          NaN         NaN  \n",
              "3257          NaN         NaN  \n",
              "3258          NaN         NaN  \n",
              "3259          NaN         NaN  \n",
              "3260          NaN         NaN  \n",
              "\n",
              "[3261 rows x 19 columns]>"
            ]
          },
          "metadata": {},
          "execution_count": 11
        }
      ]
    },
    {
      "cell_type": "code",
      "source": [
        "youtube.isnull().sum()"
      ],
      "metadata": {
        "colab": {
          "base_uri": "https://localhost:8080/"
        },
        "id": "EZ6ERzj23cuL",
        "outputId": "e617cf99-32f9-4bcb-b730-34927f6f70f2"
      },
      "execution_count": null,
      "outputs": [
        {
          "output_type": "execute_result",
          "data": {
            "text/plain": [
              "Video_id                    0\n",
              "category_id                 6\n",
              "channel_title               3\n",
              "subscriber                 24\n",
              "title                       3\n",
              "tags                      157\n",
              "description                66\n",
              "Trend_day_count             1\n",
              "Tag_count                   1\n",
              "Trend_tag_count             1\n",
              "comment_count               0\n",
              "comment_disabled            1\n",
              "like dislike disabled       1\n",
              "likes                       1\n",
              "dislike                     1\n",
              "tag appered in title        2\n",
              "views                       1\n",
              "Unnamed: 17              3260\n",
              "Unnamed: 18              3260\n",
              "dtype: int64"
            ]
          },
          "metadata": {},
          "execution_count": 13
        }
      ]
    },
    {
      "cell_type": "code",
      "source": [
        "youtube.dtypes"
      ],
      "metadata": {
        "colab": {
          "base_uri": "https://localhost:8080/"
        },
        "id": "_QdzZgXd3vYo",
        "outputId": "b99c65f5-a261-43e1-9894-d861cb02d740"
      },
      "execution_count": null,
      "outputs": [
        {
          "output_type": "execute_result",
          "data": {
            "text/plain": [
              "Video_id                  object\n",
              "category_id               object\n",
              "channel_title             object\n",
              "subscriber               float64\n",
              "title                     object\n",
              "tags                      object\n",
              "description               object\n",
              "Trend_day_count          float64\n",
              "Tag_count                 object\n",
              "Trend_tag_count           object\n",
              "comment_count             object\n",
              "comment_disabled          object\n",
              "like dislike disabled     object\n",
              "likes                     object\n",
              "dislike                   object\n",
              "tag appered in title      object\n",
              "views                     object\n",
              "Unnamed: 17              float64\n",
              "Unnamed: 18               object\n",
              "dtype: object"
            ]
          },
          "metadata": {},
          "execution_count": 14
        }
      ]
    },
    {
      "cell_type": "code",
      "source": [
        "youtube.describe().T"
      ],
      "metadata": {
        "colab": {
          "base_uri": "https://localhost:8080/",
          "height": 207
        },
        "id": "V45ygUUl3y5D",
        "outputId": "a8377e9d-fdb3-42e9-efe6-8a24d53abeaa"
      },
      "execution_count": null,
      "outputs": [
        {
          "output_type": "execute_result",
          "data": {
            "text/plain": [
              "                  count          mean           std     min       25%  \\\n",
              "subscriber       3237.0  3.806244e+06  2.838999e+07     0.0  242880.0   \n",
              "Trend_day_count  3260.0  9.799080e+00  1.317926e+02     0.0       4.0   \n",
              "Unnamed: 17         1.0  2.544000e+03           NaN  2544.0    2544.0   \n",
              "\n",
              "                       50%        75%           max  \n",
              "subscriber       1212390.0  3808198.0  1.576229e+09  \n",
              "Trend_day_count        7.0       10.0  6.082000e+03  \n",
              "Unnamed: 17         2544.0     2544.0  2.544000e+03  "
            ],
            "text/html": [
              "\n",
              "  <div id=\"df-1e16d41c-0b5d-4b1a-8a77-9713f7e365b3\">\n",
              "    <div class=\"colab-df-container\">\n",
              "      <div>\n",
              "<style scoped>\n",
              "    .dataframe tbody tr th:only-of-type {\n",
              "        vertical-align: middle;\n",
              "    }\n",
              "\n",
              "    .dataframe tbody tr th {\n",
              "        vertical-align: top;\n",
              "    }\n",
              "\n",
              "    .dataframe thead th {\n",
              "        text-align: right;\n",
              "    }\n",
              "</style>\n",
              "<table border=\"1\" class=\"dataframe\">\n",
              "  <thead>\n",
              "    <tr style=\"text-align: right;\">\n",
              "      <th></th>\n",
              "      <th>count</th>\n",
              "      <th>mean</th>\n",
              "      <th>std</th>\n",
              "      <th>min</th>\n",
              "      <th>25%</th>\n",
              "      <th>50%</th>\n",
              "      <th>75%</th>\n",
              "      <th>max</th>\n",
              "    </tr>\n",
              "  </thead>\n",
              "  <tbody>\n",
              "    <tr>\n",
              "      <th>subscriber</th>\n",
              "      <td>3237.0</td>\n",
              "      <td>3.806244e+06</td>\n",
              "      <td>2.838999e+07</td>\n",
              "      <td>0.0</td>\n",
              "      <td>242880.0</td>\n",
              "      <td>1212390.0</td>\n",
              "      <td>3808198.0</td>\n",
              "      <td>1.576229e+09</td>\n",
              "    </tr>\n",
              "    <tr>\n",
              "      <th>Trend_day_count</th>\n",
              "      <td>3260.0</td>\n",
              "      <td>9.799080e+00</td>\n",
              "      <td>1.317926e+02</td>\n",
              "      <td>0.0</td>\n",
              "      <td>4.0</td>\n",
              "      <td>7.0</td>\n",
              "      <td>10.0</td>\n",
              "      <td>6.082000e+03</td>\n",
              "    </tr>\n",
              "    <tr>\n",
              "      <th>Unnamed: 17</th>\n",
              "      <td>1.0</td>\n",
              "      <td>2.544000e+03</td>\n",
              "      <td>NaN</td>\n",
              "      <td>2544.0</td>\n",
              "      <td>2544.0</td>\n",
              "      <td>2544.0</td>\n",
              "      <td>2544.0</td>\n",
              "      <td>2.544000e+03</td>\n",
              "    </tr>\n",
              "  </tbody>\n",
              "</table>\n",
              "</div>\n",
              "      <button class=\"colab-df-convert\" onclick=\"convertToInteractive('df-1e16d41c-0b5d-4b1a-8a77-9713f7e365b3')\"\n",
              "              title=\"Convert this dataframe to an interactive table.\"\n",
              "              style=\"display:none;\">\n",
              "        \n",
              "  <svg xmlns=\"http://www.w3.org/2000/svg\" height=\"24px\"viewBox=\"0 0 24 24\"\n",
              "       width=\"24px\">\n",
              "    <path d=\"M0 0h24v24H0V0z\" fill=\"none\"/>\n",
              "    <path d=\"M18.56 5.44l.94 2.06.94-2.06 2.06-.94-2.06-.94-.94-2.06-.94 2.06-2.06.94zm-11 1L8.5 8.5l.94-2.06 2.06-.94-2.06-.94L8.5 2.5l-.94 2.06-2.06.94zm10 10l.94 2.06.94-2.06 2.06-.94-2.06-.94-.94-2.06-.94 2.06-2.06.94z\"/><path d=\"M17.41 7.96l-1.37-1.37c-.4-.4-.92-.59-1.43-.59-.52 0-1.04.2-1.43.59L10.3 9.45l-7.72 7.72c-.78.78-.78 2.05 0 2.83L4 21.41c.39.39.9.59 1.41.59.51 0 1.02-.2 1.41-.59l7.78-7.78 2.81-2.81c.8-.78.8-2.07 0-2.86zM5.41 20L4 18.59l7.72-7.72 1.47 1.35L5.41 20z\"/>\n",
              "  </svg>\n",
              "      </button>\n",
              "      \n",
              "  <style>\n",
              "    .colab-df-container {\n",
              "      display:flex;\n",
              "      flex-wrap:wrap;\n",
              "      gap: 12px;\n",
              "    }\n",
              "\n",
              "    .colab-df-convert {\n",
              "      background-color: #E8F0FE;\n",
              "      border: none;\n",
              "      border-radius: 50%;\n",
              "      cursor: pointer;\n",
              "      display: none;\n",
              "      fill: #1967D2;\n",
              "      height: 32px;\n",
              "      padding: 0 0 0 0;\n",
              "      width: 32px;\n",
              "    }\n",
              "\n",
              "    .colab-df-convert:hover {\n",
              "      background-color: #E2EBFA;\n",
              "      box-shadow: 0px 1px 2px rgba(60, 64, 67, 0.3), 0px 1px 3px 1px rgba(60, 64, 67, 0.15);\n",
              "      fill: #174EA6;\n",
              "    }\n",
              "\n",
              "    [theme=dark] .colab-df-convert {\n",
              "      background-color: #3B4455;\n",
              "      fill: #D2E3FC;\n",
              "    }\n",
              "\n",
              "    [theme=dark] .colab-df-convert:hover {\n",
              "      background-color: #434B5C;\n",
              "      box-shadow: 0px 1px 3px 1px rgba(0, 0, 0, 0.15);\n",
              "      filter: drop-shadow(0px 1px 2px rgba(0, 0, 0, 0.3));\n",
              "      fill: #FFFFFF;\n",
              "    }\n",
              "  </style>\n",
              "\n",
              "      <script>\n",
              "        const buttonEl =\n",
              "          document.querySelector('#df-1e16d41c-0b5d-4b1a-8a77-9713f7e365b3 button.colab-df-convert');\n",
              "        buttonEl.style.display =\n",
              "          google.colab.kernel.accessAllowed ? 'block' : 'none';\n",
              "\n",
              "        async function convertToInteractive(key) {\n",
              "          const element = document.querySelector('#df-1e16d41c-0b5d-4b1a-8a77-9713f7e365b3');\n",
              "          const dataTable =\n",
              "            await google.colab.kernel.invokeFunction('convertToInteractive',\n",
              "                                                     [key], {});\n",
              "          if (!dataTable) return;\n",
              "\n",
              "          const docLinkHtml = 'Like what you see? Visit the ' +\n",
              "            '<a target=\"_blank\" href=https://colab.research.google.com/notebooks/data_table.ipynb>data table notebook</a>'\n",
              "            + ' to learn more about interactive tables.';\n",
              "          element.innerHTML = '';\n",
              "          dataTable['output_type'] = 'display_data';\n",
              "          await google.colab.output.renderOutput(dataTable, element);\n",
              "          const docLink = document.createElement('div');\n",
              "          docLink.innerHTML = docLinkHtml;\n",
              "          element.appendChild(docLink);\n",
              "        }\n",
              "      </script>\n",
              "    </div>\n",
              "  </div>\n",
              "  "
            ]
          },
          "metadata": {},
          "execution_count": 17
        }
      ]
    },
    {
      "cell_type": "code",
      "source": [
        "youtube.describe(include='all')"
      ],
      "metadata": {
        "colab": {
          "base_uri": "https://localhost:8080/",
          "height": 597
        },
        "id": "fvcEqc114OSF",
        "outputId": "6c875a41-b79c-4031-b10b-cd7547ca8047"
      },
      "execution_count": null,
      "outputs": [
        {
          "output_type": "execute_result",
          "data": {
            "text/plain": [
              "          Video_id category_id channel_title    subscriber  \\\n",
              "count         3261        3255          3258  3.237000e+03   \n",
              "unique        3198          17          1502           NaN   \n",
              "top     ZHM72PHp27          24    Refinery29           NaN   \n",
              "freq             2         799            35           NaN   \n",
              "mean           NaN         NaN           NaN  3.806244e+06   \n",
              "std            NaN         NaN           NaN  2.838999e+07   \n",
              "min            NaN         NaN           NaN  0.000000e+00   \n",
              "25%            NaN         NaN           NaN  2.428800e+05   \n",
              "50%            NaN         NaN           NaN  1.212390e+06   \n",
              "75%            NaN         NaN           NaN  3.808198e+06   \n",
              "max            NaN         NaN           NaN  1.576229e+09   \n",
              "\n",
              "                                                    title  \\\n",
              "count                                                3258   \n",
              "unique                                               3191   \n",
              "top     Judge Aquilina Delivers Powerful Statement Bef...   \n",
              "freq                                                    2   \n",
              "mean                                                  NaN   \n",
              "std                                                   NaN   \n",
              "min                                                   NaN   \n",
              "25%                                                   NaN   \n",
              "50%                                                   NaN   \n",
              "75%                                                   NaN   \n",
              "max                                                   NaN   \n",
              "\n",
              "                                                     tags  \\\n",
              "count                                                3104   \n",
              "unique                                               2946   \n",
              "top     The Late Show|Stephen Colbert|Colbert|Late Sho...   \n",
              "freq                                                   26   \n",
              "mean                                                  NaN   \n",
              "std                                                   NaN   \n",
              "min                                                   NaN   \n",
              "25%                                                   NaN   \n",
              "50%                                                   NaN   \n",
              "75%                                                   NaN   \n",
              "max                                                   NaN   \n",
              "\n",
              "                                              description  Trend_day_count  \\\n",
              "count                                                3195       3260.00000   \n",
              "unique                                               3097              NaN   \n",
              "top     Jukin Media Verified (Original) * For licensin...              NaN   \n",
              "freq                                                   10              NaN   \n",
              "mean                                                  NaN          9.79908   \n",
              "std                                                   NaN        131.79255   \n",
              "min                                                   NaN          0.00000   \n",
              "25%                                                   NaN          4.00000   \n",
              "50%                                                   NaN          7.00000   \n",
              "75%                                                   NaN         10.00000   \n",
              "max                                                   NaN       6082.00000   \n",
              "\n",
              "       Tag_count Trend_tag_count comment_count comment_disabled  \\\n",
              "count       3260            3260          3261             3260   \n",
              "unique        23              11          2174                3   \n",
              "top           24               6                           TRUE   \n",
              "freq         224             485          1034             2225   \n",
              "mean         NaN             NaN           NaN              NaN   \n",
              "std          NaN             NaN           NaN              NaN   \n",
              "min          NaN             NaN           NaN              NaN   \n",
              "25%          NaN             NaN           NaN              NaN   \n",
              "50%          NaN             NaN           NaN              NaN   \n",
              "75%          NaN             NaN           NaN              NaN   \n",
              "max          NaN             NaN           NaN              NaN   \n",
              "\n",
              "       like dislike disabled likes dislike tag appered in title   views  \\\n",
              "count                   3260  3260    3260                 3259    3260   \n",
              "unique                     3  2209    2154                    2    3193   \n",
              "top                    FALSE     0       0                 True  605992   \n",
              "freq                    2402   857     858                 2152       2   \n",
              "mean                     NaN   NaN     NaN                  NaN     NaN   \n",
              "std                      NaN   NaN     NaN                  NaN     NaN   \n",
              "min                      NaN   NaN     NaN                  NaN     NaN   \n",
              "25%                      NaN   NaN     NaN                  NaN     NaN   \n",
              "50%                      NaN   NaN     NaN                  NaN     NaN   \n",
              "75%                      NaN   NaN     NaN                  NaN     NaN   \n",
              "max                      NaN   NaN     NaN                  NaN     NaN   \n",
              "\n",
              "        Unnamed: 17 Unnamed: 18  \n",
              "count           1.0           1  \n",
              "unique          NaN           1  \n",
              "top             NaN       False  \n",
              "freq            NaN           1  \n",
              "mean         2544.0         NaN  \n",
              "std             NaN         NaN  \n",
              "min          2544.0         NaN  \n",
              "25%          2544.0         NaN  \n",
              "50%          2544.0         NaN  \n",
              "75%          2544.0         NaN  \n",
              "max          2544.0         NaN  "
            ],
            "text/html": [
              "\n",
              "  <div id=\"df-2175cf34-3ca7-465c-9af7-78917a5f3634\">\n",
              "    <div class=\"colab-df-container\">\n",
              "      <div>\n",
              "<style scoped>\n",
              "    .dataframe tbody tr th:only-of-type {\n",
              "        vertical-align: middle;\n",
              "    }\n",
              "\n",
              "    .dataframe tbody tr th {\n",
              "        vertical-align: top;\n",
              "    }\n",
              "\n",
              "    .dataframe thead th {\n",
              "        text-align: right;\n",
              "    }\n",
              "</style>\n",
              "<table border=\"1\" class=\"dataframe\">\n",
              "  <thead>\n",
              "    <tr style=\"text-align: right;\">\n",
              "      <th></th>\n",
              "      <th>Video_id</th>\n",
              "      <th>category_id</th>\n",
              "      <th>channel_title</th>\n",
              "      <th>subscriber</th>\n",
              "      <th>title</th>\n",
              "      <th>tags</th>\n",
              "      <th>description</th>\n",
              "      <th>Trend_day_count</th>\n",
              "      <th>Tag_count</th>\n",
              "      <th>Trend_tag_count</th>\n",
              "      <th>comment_count</th>\n",
              "      <th>comment_disabled</th>\n",
              "      <th>like dislike disabled</th>\n",
              "      <th>likes</th>\n",
              "      <th>dislike</th>\n",
              "      <th>tag appered in title</th>\n",
              "      <th>views</th>\n",
              "      <th>Unnamed: 17</th>\n",
              "      <th>Unnamed: 18</th>\n",
              "    </tr>\n",
              "  </thead>\n",
              "  <tbody>\n",
              "    <tr>\n",
              "      <th>count</th>\n",
              "      <td>3261</td>\n",
              "      <td>3255</td>\n",
              "      <td>3258</td>\n",
              "      <td>3.237000e+03</td>\n",
              "      <td>3258</td>\n",
              "      <td>3104</td>\n",
              "      <td>3195</td>\n",
              "      <td>3260.00000</td>\n",
              "      <td>3260</td>\n",
              "      <td>3260</td>\n",
              "      <td>3261</td>\n",
              "      <td>3260</td>\n",
              "      <td>3260</td>\n",
              "      <td>3260</td>\n",
              "      <td>3260</td>\n",
              "      <td>3259</td>\n",
              "      <td>3260</td>\n",
              "      <td>1.0</td>\n",
              "      <td>1</td>\n",
              "    </tr>\n",
              "    <tr>\n",
              "      <th>unique</th>\n",
              "      <td>3198</td>\n",
              "      <td>17</td>\n",
              "      <td>1502</td>\n",
              "      <td>NaN</td>\n",
              "      <td>3191</td>\n",
              "      <td>2946</td>\n",
              "      <td>3097</td>\n",
              "      <td>NaN</td>\n",
              "      <td>23</td>\n",
              "      <td>11</td>\n",
              "      <td>2174</td>\n",
              "      <td>3</td>\n",
              "      <td>3</td>\n",
              "      <td>2209</td>\n",
              "      <td>2154</td>\n",
              "      <td>2</td>\n",
              "      <td>3193</td>\n",
              "      <td>NaN</td>\n",
              "      <td>1</td>\n",
              "    </tr>\n",
              "    <tr>\n",
              "      <th>top</th>\n",
              "      <td>ZHM72PHp27</td>\n",
              "      <td>24</td>\n",
              "      <td>Refinery29</td>\n",
              "      <td>NaN</td>\n",
              "      <td>Judge Aquilina Delivers Powerful Statement Bef...</td>\n",
              "      <td>The Late Show|Stephen Colbert|Colbert|Late Sho...</td>\n",
              "      <td>Jukin Media Verified (Original) * For licensin...</td>\n",
              "      <td>NaN</td>\n",
              "      <td>24</td>\n",
              "      <td>6</td>\n",
              "      <td></td>\n",
              "      <td>TRUE</td>\n",
              "      <td>FALSE</td>\n",
              "      <td>0</td>\n",
              "      <td>0</td>\n",
              "      <td>True</td>\n",
              "      <td>605992</td>\n",
              "      <td>NaN</td>\n",
              "      <td>False</td>\n",
              "    </tr>\n",
              "    <tr>\n",
              "      <th>freq</th>\n",
              "      <td>2</td>\n",
              "      <td>799</td>\n",
              "      <td>35</td>\n",
              "      <td>NaN</td>\n",
              "      <td>2</td>\n",
              "      <td>26</td>\n",
              "      <td>10</td>\n",
              "      <td>NaN</td>\n",
              "      <td>224</td>\n",
              "      <td>485</td>\n",
              "      <td>1034</td>\n",
              "      <td>2225</td>\n",
              "      <td>2402</td>\n",
              "      <td>857</td>\n",
              "      <td>858</td>\n",
              "      <td>2152</td>\n",
              "      <td>2</td>\n",
              "      <td>NaN</td>\n",
              "      <td>1</td>\n",
              "    </tr>\n",
              "    <tr>\n",
              "      <th>mean</th>\n",
              "      <td>NaN</td>\n",
              "      <td>NaN</td>\n",
              "      <td>NaN</td>\n",
              "      <td>3.806244e+06</td>\n",
              "      <td>NaN</td>\n",
              "      <td>NaN</td>\n",
              "      <td>NaN</td>\n",
              "      <td>9.79908</td>\n",
              "      <td>NaN</td>\n",
              "      <td>NaN</td>\n",
              "      <td>NaN</td>\n",
              "      <td>NaN</td>\n",
              "      <td>NaN</td>\n",
              "      <td>NaN</td>\n",
              "      <td>NaN</td>\n",
              "      <td>NaN</td>\n",
              "      <td>NaN</td>\n",
              "      <td>2544.0</td>\n",
              "      <td>NaN</td>\n",
              "    </tr>\n",
              "    <tr>\n",
              "      <th>std</th>\n",
              "      <td>NaN</td>\n",
              "      <td>NaN</td>\n",
              "      <td>NaN</td>\n",
              "      <td>2.838999e+07</td>\n",
              "      <td>NaN</td>\n",
              "      <td>NaN</td>\n",
              "      <td>NaN</td>\n",
              "      <td>131.79255</td>\n",
              "      <td>NaN</td>\n",
              "      <td>NaN</td>\n",
              "      <td>NaN</td>\n",
              "      <td>NaN</td>\n",
              "      <td>NaN</td>\n",
              "      <td>NaN</td>\n",
              "      <td>NaN</td>\n",
              "      <td>NaN</td>\n",
              "      <td>NaN</td>\n",
              "      <td>NaN</td>\n",
              "      <td>NaN</td>\n",
              "    </tr>\n",
              "    <tr>\n",
              "      <th>min</th>\n",
              "      <td>NaN</td>\n",
              "      <td>NaN</td>\n",
              "      <td>NaN</td>\n",
              "      <td>0.000000e+00</td>\n",
              "      <td>NaN</td>\n",
              "      <td>NaN</td>\n",
              "      <td>NaN</td>\n",
              "      <td>0.00000</td>\n",
              "      <td>NaN</td>\n",
              "      <td>NaN</td>\n",
              "      <td>NaN</td>\n",
              "      <td>NaN</td>\n",
              "      <td>NaN</td>\n",
              "      <td>NaN</td>\n",
              "      <td>NaN</td>\n",
              "      <td>NaN</td>\n",
              "      <td>NaN</td>\n",
              "      <td>2544.0</td>\n",
              "      <td>NaN</td>\n",
              "    </tr>\n",
              "    <tr>\n",
              "      <th>25%</th>\n",
              "      <td>NaN</td>\n",
              "      <td>NaN</td>\n",
              "      <td>NaN</td>\n",
              "      <td>2.428800e+05</td>\n",
              "      <td>NaN</td>\n",
              "      <td>NaN</td>\n",
              "      <td>NaN</td>\n",
              "      <td>4.00000</td>\n",
              "      <td>NaN</td>\n",
              "      <td>NaN</td>\n",
              "      <td>NaN</td>\n",
              "      <td>NaN</td>\n",
              "      <td>NaN</td>\n",
              "      <td>NaN</td>\n",
              "      <td>NaN</td>\n",
              "      <td>NaN</td>\n",
              "      <td>NaN</td>\n",
              "      <td>2544.0</td>\n",
              "      <td>NaN</td>\n",
              "    </tr>\n",
              "    <tr>\n",
              "      <th>50%</th>\n",
              "      <td>NaN</td>\n",
              "      <td>NaN</td>\n",
              "      <td>NaN</td>\n",
              "      <td>1.212390e+06</td>\n",
              "      <td>NaN</td>\n",
              "      <td>NaN</td>\n",
              "      <td>NaN</td>\n",
              "      <td>7.00000</td>\n",
              "      <td>NaN</td>\n",
              "      <td>NaN</td>\n",
              "      <td>NaN</td>\n",
              "      <td>NaN</td>\n",
              "      <td>NaN</td>\n",
              "      <td>NaN</td>\n",
              "      <td>NaN</td>\n",
              "      <td>NaN</td>\n",
              "      <td>NaN</td>\n",
              "      <td>2544.0</td>\n",
              "      <td>NaN</td>\n",
              "    </tr>\n",
              "    <tr>\n",
              "      <th>75%</th>\n",
              "      <td>NaN</td>\n",
              "      <td>NaN</td>\n",
              "      <td>NaN</td>\n",
              "      <td>3.808198e+06</td>\n",
              "      <td>NaN</td>\n",
              "      <td>NaN</td>\n",
              "      <td>NaN</td>\n",
              "      <td>10.00000</td>\n",
              "      <td>NaN</td>\n",
              "      <td>NaN</td>\n",
              "      <td>NaN</td>\n",
              "      <td>NaN</td>\n",
              "      <td>NaN</td>\n",
              "      <td>NaN</td>\n",
              "      <td>NaN</td>\n",
              "      <td>NaN</td>\n",
              "      <td>NaN</td>\n",
              "      <td>2544.0</td>\n",
              "      <td>NaN</td>\n",
              "    </tr>\n",
              "    <tr>\n",
              "      <th>max</th>\n",
              "      <td>NaN</td>\n",
              "      <td>NaN</td>\n",
              "      <td>NaN</td>\n",
              "      <td>1.576229e+09</td>\n",
              "      <td>NaN</td>\n",
              "      <td>NaN</td>\n",
              "      <td>NaN</td>\n",
              "      <td>6082.00000</td>\n",
              "      <td>NaN</td>\n",
              "      <td>NaN</td>\n",
              "      <td>NaN</td>\n",
              "      <td>NaN</td>\n",
              "      <td>NaN</td>\n",
              "      <td>NaN</td>\n",
              "      <td>NaN</td>\n",
              "      <td>NaN</td>\n",
              "      <td>NaN</td>\n",
              "      <td>2544.0</td>\n",
              "      <td>NaN</td>\n",
              "    </tr>\n",
              "  </tbody>\n",
              "</table>\n",
              "</div>\n",
              "      <button class=\"colab-df-convert\" onclick=\"convertToInteractive('df-2175cf34-3ca7-465c-9af7-78917a5f3634')\"\n",
              "              title=\"Convert this dataframe to an interactive table.\"\n",
              "              style=\"display:none;\">\n",
              "        \n",
              "  <svg xmlns=\"http://www.w3.org/2000/svg\" height=\"24px\"viewBox=\"0 0 24 24\"\n",
              "       width=\"24px\">\n",
              "    <path d=\"M0 0h24v24H0V0z\" fill=\"none\"/>\n",
              "    <path d=\"M18.56 5.44l.94 2.06.94-2.06 2.06-.94-2.06-.94-.94-2.06-.94 2.06-2.06.94zm-11 1L8.5 8.5l.94-2.06 2.06-.94-2.06-.94L8.5 2.5l-.94 2.06-2.06.94zm10 10l.94 2.06.94-2.06 2.06-.94-2.06-.94-.94-2.06-.94 2.06-2.06.94z\"/><path d=\"M17.41 7.96l-1.37-1.37c-.4-.4-.92-.59-1.43-.59-.52 0-1.04.2-1.43.59L10.3 9.45l-7.72 7.72c-.78.78-.78 2.05 0 2.83L4 21.41c.39.39.9.59 1.41.59.51 0 1.02-.2 1.41-.59l7.78-7.78 2.81-2.81c.8-.78.8-2.07 0-2.86zM5.41 20L4 18.59l7.72-7.72 1.47 1.35L5.41 20z\"/>\n",
              "  </svg>\n",
              "      </button>\n",
              "      \n",
              "  <style>\n",
              "    .colab-df-container {\n",
              "      display:flex;\n",
              "      flex-wrap:wrap;\n",
              "      gap: 12px;\n",
              "    }\n",
              "\n",
              "    .colab-df-convert {\n",
              "      background-color: #E8F0FE;\n",
              "      border: none;\n",
              "      border-radius: 50%;\n",
              "      cursor: pointer;\n",
              "      display: none;\n",
              "      fill: #1967D2;\n",
              "      height: 32px;\n",
              "      padding: 0 0 0 0;\n",
              "      width: 32px;\n",
              "    }\n",
              "\n",
              "    .colab-df-convert:hover {\n",
              "      background-color: #E2EBFA;\n",
              "      box-shadow: 0px 1px 2px rgba(60, 64, 67, 0.3), 0px 1px 3px 1px rgba(60, 64, 67, 0.15);\n",
              "      fill: #174EA6;\n",
              "    }\n",
              "\n",
              "    [theme=dark] .colab-df-convert {\n",
              "      background-color: #3B4455;\n",
              "      fill: #D2E3FC;\n",
              "    }\n",
              "\n",
              "    [theme=dark] .colab-df-convert:hover {\n",
              "      background-color: #434B5C;\n",
              "      box-shadow: 0px 1px 3px 1px rgba(0, 0, 0, 0.15);\n",
              "      filter: drop-shadow(0px 1px 2px rgba(0, 0, 0, 0.3));\n",
              "      fill: #FFFFFF;\n",
              "    }\n",
              "  </style>\n",
              "\n",
              "      <script>\n",
              "        const buttonEl =\n",
              "          document.querySelector('#df-2175cf34-3ca7-465c-9af7-78917a5f3634 button.colab-df-convert');\n",
              "        buttonEl.style.display =\n",
              "          google.colab.kernel.accessAllowed ? 'block' : 'none';\n",
              "\n",
              "        async function convertToInteractive(key) {\n",
              "          const element = document.querySelector('#df-2175cf34-3ca7-465c-9af7-78917a5f3634');\n",
              "          const dataTable =\n",
              "            await google.colab.kernel.invokeFunction('convertToInteractive',\n",
              "                                                     [key], {});\n",
              "          if (!dataTable) return;\n",
              "\n",
              "          const docLinkHtml = 'Like what you see? Visit the ' +\n",
              "            '<a target=\"_blank\" href=https://colab.research.google.com/notebooks/data_table.ipynb>data table notebook</a>'\n",
              "            + ' to learn more about interactive tables.';\n",
              "          element.innerHTML = '';\n",
              "          dataTable['output_type'] = 'display_data';\n",
              "          await google.colab.output.renderOutput(dataTable, element);\n",
              "          const docLink = document.createElement('div');\n",
              "          docLink.innerHTML = docLinkHtml;\n",
              "          element.appendChild(docLink);\n",
              "        }\n",
              "      </script>\n",
              "    </div>\n",
              "  </div>\n",
              "  "
            ]
          },
          "metadata": {},
          "execution_count": 18
        }
      ]
    },
    {
      "cell_type": "code",
      "source": [
        "youtube.duplicated().sum()"
      ],
      "metadata": {
        "colab": {
          "base_uri": "https://localhost:8080/"
        },
        "id": "gfP6wXzuA6fx",
        "outputId": "dce1d2ee-f27f-41ac-b32d-5ec531b6724f"
      },
      "execution_count": null,
      "outputs": [
        {
          "output_type": "execute_result",
          "data": {
            "text/plain": [
              "63"
            ]
          },
          "metadata": {},
          "execution_count": 20
        }
      ]
    },
    {
      "cell_type": "code",
      "source": [
        "youtube.drop_duplicates(keep = 'first').shape"
      ],
      "metadata": {
        "colab": {
          "base_uri": "https://localhost:8080/"
        },
        "id": "s8_1IgJWCOpC",
        "outputId": "ce295c20-3678-4fc3-b096-98b9ddc787d5"
      },
      "execution_count": null,
      "outputs": [
        {
          "output_type": "execute_result",
          "data": {
            "text/plain": [
              "(3198, 19)"
            ]
          },
          "metadata": {},
          "execution_count": 21
        }
      ]
    },
    {
      "cell_type": "code",
      "source": [
        "youtube[\"views\"] = pd.to_numeric(youtube.views, errors='coerce')\n",
        "youtube.info()"
      ],
      "metadata": {
        "colab": {
          "base_uri": "https://localhost:8080/"
        },
        "id": "C03h_LbsCkEm",
        "outputId": "bafa5659-795c-4c50-eef1-865887e35827"
      },
      "execution_count": null,
      "outputs": [
        {
          "output_type": "stream",
          "name": "stdout",
          "text": [
            "<class 'pandas.core.frame.DataFrame'>\n",
            "RangeIndex: 3261 entries, 0 to 3260\n",
            "Data columns (total 19 columns):\n",
            " #   Column                 Non-Null Count  Dtype  \n",
            "---  ------                 --------------  -----  \n",
            " 0   Video_id               3261 non-null   object \n",
            " 1   category_id            3255 non-null   object \n",
            " 2   channel_title          3258 non-null   object \n",
            " 3   subscriber             3237 non-null   float64\n",
            " 4   title                  3258 non-null   object \n",
            " 5   tags                   3104 non-null   object \n",
            " 6   description            3195 non-null   object \n",
            " 7   Trend_day_count        3260 non-null   float64\n",
            " 8   Tag_count              3260 non-null   object \n",
            " 9   Trend_tag_count        3260 non-null   object \n",
            " 10  comment_count          3261 non-null   object \n",
            " 11  comment_disabled       3260 non-null   object \n",
            " 12  like dislike disabled  3260 non-null   object \n",
            " 13  likes                  3260 non-null   object \n",
            " 14  dislike                3260 non-null   object \n",
            " 15  tag appered in title   3259 non-null   object \n",
            " 16  views                  3259 non-null   float64\n",
            " 17  Unnamed: 17            1 non-null      float64\n",
            " 18  Unnamed: 18            1 non-null      object \n",
            "dtypes: float64(4), object(15)\n",
            "memory usage: 484.2+ KB\n"
          ]
        }
      ]
    },
    {
      "cell_type": "code",
      "source": [
        "youtube.drop(['Unnamed: 17'],axis=1,inplace=True)\n",
        "youtube.drop(['Unnamed: 18'],axis=1,inplace=True)"
      ],
      "metadata": {
        "id": "RxyQBYhuDBmI"
      },
      "execution_count": null,
      "outputs": []
    },
    {
      "cell_type": "code",
      "source": [
        "youtube.describe()"
      ],
      "metadata": {
        "colab": {
          "base_uri": "https://localhost:8080/",
          "height": 300
        },
        "id": "Zwoz0n6EDMED",
        "outputId": "872421a8-c55c-4cd5-9af0-026f26ead5dc"
      },
      "execution_count": null,
      "outputs": [
        {
          "output_type": "execute_result",
          "data": {
            "text/plain": [
              "         subscriber  Trend_day_count         views\n",
              "count  3.237000e+03       3260.00000  3.259000e+03\n",
              "mean   3.806244e+06          9.79908  1.560754e+06\n",
              "std    2.838999e+07        131.79255  2.034277e+07\n",
              "min    0.000000e+00          0.00000  1.000000e+00\n",
              "25%    2.428800e+05          4.00000  4.306845e+05\n",
              "50%    1.212390e+06          7.00000  7.080070e+05\n",
              "75%    3.808198e+06         10.00000  1.202197e+06\n",
              "max    1.576229e+09       6082.00000  9.898735e+08"
            ],
            "text/html": [
              "\n",
              "  <div id=\"df-1759aef3-dd44-47d1-97d6-1549a83f30f5\">\n",
              "    <div class=\"colab-df-container\">\n",
              "      <div>\n",
              "<style scoped>\n",
              "    .dataframe tbody tr th:only-of-type {\n",
              "        vertical-align: middle;\n",
              "    }\n",
              "\n",
              "    .dataframe tbody tr th {\n",
              "        vertical-align: top;\n",
              "    }\n",
              "\n",
              "    .dataframe thead th {\n",
              "        text-align: right;\n",
              "    }\n",
              "</style>\n",
              "<table border=\"1\" class=\"dataframe\">\n",
              "  <thead>\n",
              "    <tr style=\"text-align: right;\">\n",
              "      <th></th>\n",
              "      <th>subscriber</th>\n",
              "      <th>Trend_day_count</th>\n",
              "      <th>views</th>\n",
              "    </tr>\n",
              "  </thead>\n",
              "  <tbody>\n",
              "    <tr>\n",
              "      <th>count</th>\n",
              "      <td>3.237000e+03</td>\n",
              "      <td>3260.00000</td>\n",
              "      <td>3.259000e+03</td>\n",
              "    </tr>\n",
              "    <tr>\n",
              "      <th>mean</th>\n",
              "      <td>3.806244e+06</td>\n",
              "      <td>9.79908</td>\n",
              "      <td>1.560754e+06</td>\n",
              "    </tr>\n",
              "    <tr>\n",
              "      <th>std</th>\n",
              "      <td>2.838999e+07</td>\n",
              "      <td>131.79255</td>\n",
              "      <td>2.034277e+07</td>\n",
              "    </tr>\n",
              "    <tr>\n",
              "      <th>min</th>\n",
              "      <td>0.000000e+00</td>\n",
              "      <td>0.00000</td>\n",
              "      <td>1.000000e+00</td>\n",
              "    </tr>\n",
              "    <tr>\n",
              "      <th>25%</th>\n",
              "      <td>2.428800e+05</td>\n",
              "      <td>4.00000</td>\n",
              "      <td>4.306845e+05</td>\n",
              "    </tr>\n",
              "    <tr>\n",
              "      <th>50%</th>\n",
              "      <td>1.212390e+06</td>\n",
              "      <td>7.00000</td>\n",
              "      <td>7.080070e+05</td>\n",
              "    </tr>\n",
              "    <tr>\n",
              "      <th>75%</th>\n",
              "      <td>3.808198e+06</td>\n",
              "      <td>10.00000</td>\n",
              "      <td>1.202197e+06</td>\n",
              "    </tr>\n",
              "    <tr>\n",
              "      <th>max</th>\n",
              "      <td>1.576229e+09</td>\n",
              "      <td>6082.00000</td>\n",
              "      <td>9.898735e+08</td>\n",
              "    </tr>\n",
              "  </tbody>\n",
              "</table>\n",
              "</div>\n",
              "      <button class=\"colab-df-convert\" onclick=\"convertToInteractive('df-1759aef3-dd44-47d1-97d6-1549a83f30f5')\"\n",
              "              title=\"Convert this dataframe to an interactive table.\"\n",
              "              style=\"display:none;\">\n",
              "        \n",
              "  <svg xmlns=\"http://www.w3.org/2000/svg\" height=\"24px\"viewBox=\"0 0 24 24\"\n",
              "       width=\"24px\">\n",
              "    <path d=\"M0 0h24v24H0V0z\" fill=\"none\"/>\n",
              "    <path d=\"M18.56 5.44l.94 2.06.94-2.06 2.06-.94-2.06-.94-.94-2.06-.94 2.06-2.06.94zm-11 1L8.5 8.5l.94-2.06 2.06-.94-2.06-.94L8.5 2.5l-.94 2.06-2.06.94zm10 10l.94 2.06.94-2.06 2.06-.94-2.06-.94-.94-2.06-.94 2.06-2.06.94z\"/><path d=\"M17.41 7.96l-1.37-1.37c-.4-.4-.92-.59-1.43-.59-.52 0-1.04.2-1.43.59L10.3 9.45l-7.72 7.72c-.78.78-.78 2.05 0 2.83L4 21.41c.39.39.9.59 1.41.59.51 0 1.02-.2 1.41-.59l7.78-7.78 2.81-2.81c.8-.78.8-2.07 0-2.86zM5.41 20L4 18.59l7.72-7.72 1.47 1.35L5.41 20z\"/>\n",
              "  </svg>\n",
              "      </button>\n",
              "      \n",
              "  <style>\n",
              "    .colab-df-container {\n",
              "      display:flex;\n",
              "      flex-wrap:wrap;\n",
              "      gap: 12px;\n",
              "    }\n",
              "\n",
              "    .colab-df-convert {\n",
              "      background-color: #E8F0FE;\n",
              "      border: none;\n",
              "      border-radius: 50%;\n",
              "      cursor: pointer;\n",
              "      display: none;\n",
              "      fill: #1967D2;\n",
              "      height: 32px;\n",
              "      padding: 0 0 0 0;\n",
              "      width: 32px;\n",
              "    }\n",
              "\n",
              "    .colab-df-convert:hover {\n",
              "      background-color: #E2EBFA;\n",
              "      box-shadow: 0px 1px 2px rgba(60, 64, 67, 0.3), 0px 1px 3px 1px rgba(60, 64, 67, 0.15);\n",
              "      fill: #174EA6;\n",
              "    }\n",
              "\n",
              "    [theme=dark] .colab-df-convert {\n",
              "      background-color: #3B4455;\n",
              "      fill: #D2E3FC;\n",
              "    }\n",
              "\n",
              "    [theme=dark] .colab-df-convert:hover {\n",
              "      background-color: #434B5C;\n",
              "      box-shadow: 0px 1px 3px 1px rgba(0, 0, 0, 0.15);\n",
              "      filter: drop-shadow(0px 1px 2px rgba(0, 0, 0, 0.3));\n",
              "      fill: #FFFFFF;\n",
              "    }\n",
              "  </style>\n",
              "\n",
              "      <script>\n",
              "        const buttonEl =\n",
              "          document.querySelector('#df-1759aef3-dd44-47d1-97d6-1549a83f30f5 button.colab-df-convert');\n",
              "        buttonEl.style.display =\n",
              "          google.colab.kernel.accessAllowed ? 'block' : 'none';\n",
              "\n",
              "        async function convertToInteractive(key) {\n",
              "          const element = document.querySelector('#df-1759aef3-dd44-47d1-97d6-1549a83f30f5');\n",
              "          const dataTable =\n",
              "            await google.colab.kernel.invokeFunction('convertToInteractive',\n",
              "                                                     [key], {});\n",
              "          if (!dataTable) return;\n",
              "\n",
              "          const docLinkHtml = 'Like what you see? Visit the ' +\n",
              "            '<a target=\"_blank\" href=https://colab.research.google.com/notebooks/data_table.ipynb>data table notebook</a>'\n",
              "            + ' to learn more about interactive tables.';\n",
              "          element.innerHTML = '';\n",
              "          dataTable['output_type'] = 'display_data';\n",
              "          await google.colab.output.renderOutput(dataTable, element);\n",
              "          const docLink = document.createElement('div');\n",
              "          docLink.innerHTML = docLinkHtml;\n",
              "          element.appendChild(docLink);\n",
              "        }\n",
              "      </script>\n",
              "    </div>\n",
              "  </div>\n",
              "  "
            ]
          },
          "metadata": {},
          "execution_count": 25
        }
      ]
    },
    {
      "cell_type": "code",
      "source": [
        "youtube['category_id'].value_counts()"
      ],
      "metadata": {
        "colab": {
          "base_uri": "https://localhost:8080/"
        },
        "id": "9VFc-ym1DRoS",
        "outputId": "36259aae-f1e6-4123-a07d-74707ca8d1d7"
      },
      "execution_count": null,
      "outputs": [
        {
          "output_type": "execute_result",
          "data": {
            "text/plain": [
              "24     799\n",
              "10     427\n",
              "26     310\n",
              "25     300\n",
              "23     286\n",
              "22     253\n",
              "17     208\n",
              "28     191\n",
              "1      166\n",
              "27     118\n",
              "15      73\n",
              "2       45\n",
              "20      36\n",
              "19      31\n",
              "29       8\n",
              "43       3\n",
              "“24      1\n",
              "Name: category_id, dtype: int64"
            ]
          },
          "metadata": {},
          "execution_count": 26
        }
      ]
    },
    {
      "cell_type": "code",
      "source": [
        "youtube['category_id'].value_counts().plot(kind='bar')\n",
        "     "
      ],
      "metadata": {
        "colab": {
          "base_uri": "https://localhost:8080/",
          "height": 290
        },
        "id": "22Vmk5adDa1U",
        "outputId": "52bce85e-6493-4a1c-89d0-d586a3fff1f0"
      },
      "execution_count": null,
      "outputs": [
        {
          "output_type": "execute_result",
          "data": {
            "text/plain": [
              "<matplotlib.axes._subplots.AxesSubplot at 0x7fa8b6ae4ee0>"
            ]
          },
          "metadata": {},
          "execution_count": 27
        },
        {
          "output_type": "display_data",
          "data": {
            "text/plain": [
              "<Figure size 432x288 with 1 Axes>"
            ],
            "image/png": "[encoded data removed]"
          },
          "metadata": {
            "needs_background": "light"
          }
        }
      ]
    },
    {
      "cell_type": "code",
      "source": [
        "plt.scatter(youtube['subscriber'], youtube['views'],marker=\"*\", color=\"green\")"
      ],
      "metadata": {
        "colab": {
          "base_uri": "https://localhost:8080/",
          "height": 306
        },
        "id": "0h1KeE8qDlUB",
        "outputId": "3d4026c3-1f03-4ee0-e0c0-82f207b13dc2"
      },
      "execution_count": null,
      "outputs": [
        {
          "output_type": "execute_result",
          "data": {
            "text/plain": [
              "<matplotlib.collections.PathCollection at 0x7fa8b650daf0>"
            ]
          },
          "metadata": {},
          "execution_count": 28
        },
        {
          "output_type": "display_data",
          "data": {
            "text/plain": [
              "<Figure size 432x288 with 1 Axes>"
            ],
            "image/png": "[encoded data removed]"
          },
          "metadata": {
            "needs_background": "light"
          }
        }
      ]
    },
    {
      "cell_type": "code",
      "source": [
        "youtube['subscriber'].plot(kind='box')"
      ],
      "metadata": {
        "colab": {
          "base_uri": "https://localhost:8080/",
          "height": 293
        },
        "id": "3F5lb6WiD5Dh",
        "outputId": "6bf9b214-3bc9-4226-9eda-749ca35dd1a4"
      },
      "execution_count": null,
      "outputs": [
        {
          "output_type": "execute_result",
          "data": {
            "text/plain": [
              "<matplotlib.axes._subplots.AxesSubplot at 0x7fa8b64d36a0>"
            ]
          },
          "metadata": {},
          "execution_count": 29
        },
        {
          "output_type": "display_data",
          "data": {
            "text/plain": [
              "<Figure size 432x288 with 1 Axes>"
            ],
            "image/png": "[encoded data removed]"
          },
          "metadata": {
            "needs_background": "light"
          }
        }
      ]
    },
    {
      "cell_type": "code",
      "source": [
        "youtube['views'].plot(kind='box')\n",
        "     "
      ],
      "metadata": {
        "colab": {
          "base_uri": "https://localhost:8080/",
          "height": 293
        },
        "id": "xdxGTRwCEAs4",
        "outputId": "680d78a2-f6b6-46e1-fa6d-597f8759fde0"
      },
      "execution_count": null,
      "outputs": [
        {
          "output_type": "execute_result",
          "data": {
            "text/plain": [
              "<matplotlib.axes._subplots.AxesSubplot at 0x7fa8b6437670>"
            ]
          },
          "metadata": {},
          "execution_count": 30
        },
        {
          "output_type": "display_data",
          "data": {
            "text/plain": [
              "<Figure size 432x288 with 1 Axes>"
            ],
            "image/png": "[encoded data removed]"
          },
          "metadata": {
            "needs_background": "light"
          }
        }
      ]
    }
  ]
}